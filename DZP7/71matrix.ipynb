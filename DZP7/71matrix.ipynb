{
 "cells": [
  {
   "cell_type": "code",
   "execution_count": 3,
   "metadata": {},
   "outputs": [
    {
     "name": "stdout",
     "output_type": "stream",
     "text": [
      "Матрица 1\n",
      "1\t2\t3\t4\t5\n",
      "5\t4\t3\t2\t1\n",
      "1\t1\t1\t1\t1 \n",
      "\n",
      "Матрица 2\n",
      "6\t7\t8\t9\t0\n",
      "0\t9\t8\t7\t6\n",
      "9\t9\t9\t9\t9 \n",
      "\n",
      "Матрица 1+2\n",
      "7\t9\t11\t13\t5\n",
      "5\t13\t11\t9\t7\n",
      "10\t10\t10\t10\t10\n"
     ]
    }
   ],
   "source": [
    "import numpy as np\n",
    "\n",
    "\n",
    "class Matrix:\n",
    "\n",
    "    def __init__(self, param_1):\n",
    "        self.param_1 = param_1\n",
    "\n",
    "\n",
    "    def __add__(self, other):\n",
    "        return Matrix(self.param_1 + other.param_1)\n",
    "\n",
    "    def __str__(self):\n",
    "        return '\\n'.join('\\t'.join(map(str,row)) for row in self.param_1)\n",
    "  #      return f\"Объект с параметрами ({self.param_1}, {self.param_2})\"\n",
    "\n",
    "a=np.array([[1,2,3,4,5],[5,4,3,2,1],[1,1,1,1,1]])\n",
    "b=np.array([[6,7,8,9,0],[0,9,8,7,6],[9,9,9,9,9]])\n",
    "mc = Matrix(a)\n",
    "mc2= Matrix(b)\n",
    "print ('Матрица 1')\n",
    "print(mc.__str__(), '\\n')\n",
    "print ('Матрица 2')\n",
    "print(mc2.__str__(), '\\n')\n",
    "print ('Матрица 1+2')\n",
    "print(mc+mc2)"
   ]
  },
  {
   "cell_type": "code",
   "execution_count": null,
   "metadata": {},
   "outputs": [],
   "source": []
  },
  {
   "cell_type": "code",
   "execution_count": null,
   "metadata": {},
   "outputs": [],
   "source": []
  }
 ],
 "metadata": {
  "kernelspec": {
   "display_name": "Python 3",
   "language": "python",
   "name": "python3"
  },
  "language_info": {
   "codemirror_mode": {
    "name": "ipython",
    "version": 3
   },
   "file_extension": ".py",
   "mimetype": "text/x-python",
   "name": "python",
   "nbconvert_exporter": "python",
   "pygments_lexer": "ipython3",
   "version": "3.7.4"
  }
 },
 "nbformat": 4,
 "nbformat_minor": 2
}
